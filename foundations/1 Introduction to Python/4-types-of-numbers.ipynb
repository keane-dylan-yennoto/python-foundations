{
 "cells": [
  {
   "attachments": {},
   "cell_type": "markdown",
   "metadata": {},
   "source": [
    "# Lesson 4: Types of Numbers in Python\n",
    "\n",
    "In this lesson, we'll cover different types of numbers in Python."
   ]
  },
  {
   "attachments": {},
   "cell_type": "markdown",
   "metadata": {},
   "source": [
    "## Integer\n",
    "\n",
    "An integer is a whole number, positive or negative, without any decimal points. It can represent values like 0, 1, -5, etc.\n",
    "\n",
    "Let's see an example:"
   ]
  },
  {
   "cell_type": "code",
   "execution_count": 6,
   "metadata": {},
   "outputs": [
    {
     "name": "stdout",
     "output_type": "stream",
     "text": [
      "Integer: 10\n"
     ]
    }
   ],
   "source": [
    "# Integer\n",
    "num1 = 10\n",
    "print(\"Integer:\", num1)"
   ]
  },
  {
   "attachments": {},
   "cell_type": "markdown",
   "metadata": {},
   "source": [
    "## Float\n",
    "\n",
    "A float is a number that contains decimal points. It can represent values like 3.14, -2.5, etc.\n",
    "\n",
    "Let's see an example:"
   ]
  },
  {
   "cell_type": "code",
   "execution_count": 7,
   "metadata": {},
   "outputs": [
    {
     "name": "stdout",
     "output_type": "stream",
     "text": [
      "Float: 3.14\n"
     ]
    }
   ],
   "source": [
    "# Float\n",
    "num2 = 3.14\n",
    "print(\"Float:\", num2)"
   ]
  },
  {
   "attachments": {},
   "cell_type": "markdown",
   "metadata": {},
   "source": [
    "## Complex\n",
    "\n",
    "A complex number is a number in the form of `a + bj`, where `a` and `b` are real numbers, and `j` represents the square root of -1. It can be used to represent complex mathematical operations.\n",
    "\n",
    "Let's see an example:"
   ]
  },
  {
   "cell_type": "code",
   "execution_count": 8,
   "metadata": {},
   "outputs": [
    {
     "name": "stdout",
     "output_type": "stream",
     "text": [
      "Complex: (2+3j)\n"
     ]
    }
   ],
   "source": [
    "# Complex\n",
    "num3 = 2 + 3j\n",
    "print(\"Complex:\", num3)"
   ]
  },
  {
   "attachments": {},
   "cell_type": "markdown",
   "metadata": {},
   "source": [
    "## Type Conversion\n",
    "\n",
    "In Python, you can convert one type of number to another using type conversion.\n",
    "For example, you can convert an integer to a float and vice versa.\n",
    "\n",
    "Let's see some examples:"
   ]
  },
  {
   "cell_type": "code",
   "execution_count": 9,
   "metadata": {},
   "outputs": [
    {
     "name": "stdout",
     "output_type": "stream",
     "text": [
      "Integer to float: 5.0\n",
      "Float to integer: 2\n"
     ]
    }
   ],
   "source": [
    "# Type conversion\n",
    "x = 5\n",
    "y = 2.5\n",
    "\n",
    "# Integer to float\n",
    "result1 = float(x)\n",
    "print(\"Integer to float:\", result1)\n",
    "\n",
    "# Float to integer\n",
    "result2 = int(y)\n",
    "print(\"Float to integer:\", result2)"
   ]
  },
  {
   "attachments": {},
   "cell_type": "markdown",
   "metadata": {},
   "source": [
    "## Operations\n",
    "\n",
    "You can perform various arithmetic operations on numbers in Python. Let's see some examples:"
   ]
  },
  {
   "cell_type": "code",
   "execution_count": 10,
   "metadata": {},
   "outputs": [
    {
     "name": "stdout",
     "output_type": "stream",
     "text": [
      "Sum: 13\n",
      "Difference: 7\n",
      "Product: 30\n",
      "Quotient: 3.3333333333333335\n",
      "Remainder: 1\n",
      "Power: 1000\n"
     ]
    }
   ],
   "source": [
    "# Operations\n",
    "a = 10\n",
    "b = 3\n",
    "\n",
    "# Addition\n",
    "sum = a + b\n",
    "print(\"Sum:\", sum)\n",
    "\n",
    "# Subtraction\n",
    "diff = a - b\n",
    "print(\"Difference:\", diff)\n",
    "\n",
    "# Multiplication\n",
    "product = a * b\n",
    "print(\"Product:\", product)\n",
    "\n",
    "# Division\n",
    "quotient = a / b\n",
    "print(\"Quotient:\", quotient)\n",
    "\n",
    "# Modulo\n",
    "remainder = a % b\n",
    "print(\"Remainder:\", remainder)\n",
    "\n",
    "# Exponentiation\n",
    "power = a ** b\n",
    "print(\"Power:\", power)"
   ]
  }
 ],
 "metadata": {
  "kernelspec": {
   "display_name": "Python 3",
   "language": "python",
   "name": "python3"
  },
  "language_info": {
   "codemirror_mode": {
    "name": "ipython",
    "version": 3
   },
   "file_extension": ".py",
   "mimetype": "text/x-python",
   "name": "python",
   "nbconvert_exporter": "python",
   "pygments_lexer": "ipython3",
   "version": "3.9.7"
  }
 },
 "nbformat": 4,
 "nbformat_minor": 5
}
