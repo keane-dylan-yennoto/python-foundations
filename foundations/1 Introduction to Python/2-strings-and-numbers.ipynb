{
 "cells": [
  {
   "attachments": {},
   "cell_type": "markdown",
   "metadata": {},
   "source": [
    "# Lesson 2: Working with Strings and Numbers\n",
    "\n",
    "In this lesson, we'll cover string manipulation and basic arithmetic operations."
   ]
  },
  {
   "attachments": {},
   "cell_type": "markdown",
   "metadata": {},
   "source": [
    "## String Manipulation"
   ]
  },
  {
   "cell_type": "code",
   "execution_count": 1,
   "metadata": {},
   "outputs": [
    {
     "name": "stdout",
     "output_type": "stream",
     "text": [
      "Original message: Hello, World!\n",
      "Uppercase: HELLO, WORLD!\n",
      "Lowercase: hello, world!\n",
      "Length: 13\n"
     ]
    }
   ],
   "source": [
    "# Define a string variable\n",
    "message = \"Hello, World!\"\n",
    "\n",
    "# Display original message\n",
    "print(\"Original message:\", message)\n",
    "\n",
    "# Convert the message to uppercase\n",
    "print(\"Uppercase:\", message.upper())\n",
    "\n",
    "# Convert the message to lowercase\n",
    "print(\"Lowercase:\", message.lower())\n",
    "\n",
    "# Get the length of the message\n",
    "print(\"Length:\", len(message))"
   ]
  },
  {
   "attachments": {},
   "cell_type": "markdown",
   "metadata": {},
   "source": [
    "## Basic Arithmetic Operations"
   ]
  },
  {
   "cell_type": "code",
   "execution_count": 2,
   "metadata": {},
   "outputs": [
    {
     "name": "stdout",
     "output_type": "stream",
     "text": [
      "Sum: 5\n",
      "Difference: 1\n",
      "Multiplication: 6\n",
      "Division: 1.5\n",
      "Remainder / Modulus: 1\n",
      "Power: 9\n"
     ]
    }
   ],
   "source": [
    "# Define numeric variables\n",
    "a = 3\n",
    "b = 2\n",
    "\n",
    "# Perform arithmetic operations\n",
    "print(\"Sum:\", a + b)\n",
    "print(\"Difference:\", a - b)\n",
    "print(\"Multiplication:\", a * b)\n",
    "print(\"Division:\", a / b)\n",
    "print(\"Remainder / Modulus:\", a % b)\n",
    "print(\"Power:\", a ** b)"
   ]
  }
 ],
 "metadata": {
  "kernelspec": {
   "display_name": "Python 3",
   "language": "python",
   "name": "python3"
  },
  "language_info": {
   "codemirror_mode": {
    "name": "ipython",
    "version": 3
   },
   "file_extension": ".py",
   "mimetype": "text/x-python",
   "name": "python",
   "nbconvert_exporter": "python",
   "pygments_lexer": "ipython3",
   "version": "3.9.7"
  }
 },
 "nbformat": 4,
 "nbformat_minor": 5
}
