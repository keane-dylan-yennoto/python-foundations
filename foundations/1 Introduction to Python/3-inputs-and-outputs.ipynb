{
 "cells": [
  {
   "attachments": {},
   "cell_type": "markdown",
   "metadata": {},
   "source": [
    "# Lesson 3: Inputs and Outputs\n",
    "\n",
    "In this lesson, we'll cover taking user input and printing output."
   ]
  },
  {
   "attachments": {},
   "cell_type": "markdown",
   "metadata": {},
   "source": [
    "## Taking User Input\n",
    "\n",
    "To take user input in Python, you can use the `input()` function. It prompts the user to enter a value and returns the input as a string.</p>\n",
    "If you need the input to be treated as a different data type, such as an integer or float, you can use type casting to convert it.\n",
    "\n",
    "Let's see an example:"
   ]
  },
  {
   "cell_type": "code",
   "execution_count": 1,
   "metadata": {},
   "outputs": [],
   "source": [
    "# Taking user input for name\n",
    "name = input(\"Enter your name: \")\n",
    "\n",
    "# Taking user input for age and converting it to an integer\n",
    "age = int(input(\"Enter your age: \"))"
   ]
  },
  {
   "attachments": {},
   "cell_type": "markdown",
   "metadata": {},
   "source": [
    "## Printing Output\n",
    "\n",
    "To print output in Python, you can use the `print()` function. It takes one or more arguments and displays them as output.\n",
    "\n",
    "Let's see an example:"
   ]
  },
  {
   "cell_type": "code",
   "execution_count": 2,
   "metadata": {},
   "outputs": [
    {
     "name": "stdout",
     "output_type": "stream",
     "text": [
      "Hello, John!\n",
      "You are 19 years old.\n"
     ]
    }
   ],
   "source": [
    "# Printing output\n",
    "print(f\"Hello, {name}!\")\n",
    "print(f\"You are {age} years old.\")"
   ]
  },
  {
   "attachments": {},
   "cell_type": "markdown",
   "id": "f9de928e",
   "metadata": {},
   "source": [
    "for jupyter notebooks it will auto-print the last variable in the cell without the print function"
   ]
  },
  {
   "cell_type": "code",
   "execution_count": 3,
   "id": "6e6495b5",
   "metadata": {},
   "outputs": [
    {
     "data": {
      "text/plain": [
       "19"
      ]
     },
     "execution_count": 3,
     "metadata": {},
     "output_type": "execute_result"
    }
   ],
   "source": [
    "name\n",
    "age # only prints age"
   ]
  }
 ],
 "metadata": {
  "kernelspec": {
   "display_name": "Python 3",
   "language": "python",
   "name": "python3"
  },
  "language_info": {
   "codemirror_mode": {
    "name": "ipython",
    "version": 3
   },
   "file_extension": ".py",
   "mimetype": "text/x-python",
   "name": "python",
   "nbconvert_exporter": "python",
   "pygments_lexer": "ipython3",
   "version": "3.9.7"
  }
 },
 "nbformat": 4,
 "nbformat_minor": 5
}
