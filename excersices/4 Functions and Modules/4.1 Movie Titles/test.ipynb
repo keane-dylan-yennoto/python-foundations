{
 "cells": [
  {
   "cell_type": "code",
   "execution_count": 6,
   "metadata": {},
   "outputs": [],
   "source": [
    "movie_title = \"Gone with the Wind\""
   ]
  },
  {
   "cell_type": "code",
   "execution_count": 7,
   "metadata": {},
   "outputs": [],
   "source": [
    "words = movie_title.split()"
   ]
  },
  {
   "cell_type": "code",
   "execution_count": 8,
   "metadata": {},
   "outputs": [
    {
     "data": {
      "text/plain": [
       "['Gone', 'with', 'the', 'Wind']"
      ]
     },
     "execution_count": 8,
     "metadata": {},
     "output_type": "execute_result"
    }
   ],
   "source": [
    "words"
   ]
  },
  {
   "cell_type": "code",
   "execution_count": 9,
   "metadata": {},
   "outputs": [],
   "source": []
  },
  {
   "cell_type": "code",
   "execution_count": 10,
   "metadata": {},
   "outputs": [
    {
     "data": {
      "text/plain": [
       "False"
      ]
     },
     "execution_count": 10,
     "metadata": {},
     "output_type": "execute_result"
    }
   ],
   "source": [
    "not True"
   ]
  },
  {
   "cell_type": "code",
   "execution_count": 46,
   "metadata": {},
   "outputs": [
    {
     "name": "stdout",
     "output_type": "stream",
     "text": [
      "(False, 'Arithmeticerror')\n"
     ]
    }
   ],
   "source": [
    "def valid_title(movie_title):\n",
    "    '''\n",
    "\n",
    "    Returns a boolean (True/False)\n",
    "    True if the title is valid, False otherwise.\n",
    "\n",
    "    '''\n",
    "\n",
    "    acp_words = set(['a' , 'an', 'the','and', 'but', 'or','in', 'on', 'at', 'with', 'from'])\n",
    "    valid = True\n",
    "    words = movie_title.split()\n",
    "\n",
    "    final_title = []\n",
    "\n",
    "    \n",
    "    if not words[0].istitle():\n",
    "        valid = False\n",
    "    \n",
    "    final_title.append(words[0].title())\n",
    "\n",
    "\n",
    "\n",
    "    for word in words[1:-1]:\n",
    "        if word.lower() in acp_words:\n",
    "            if not word.islower():\n",
    "                valid = False\n",
    "                final_title.append(word.lower())\n",
    "            else:\n",
    "                final_title.append(word)\n",
    "        elif not word.istitle():\n",
    "            valid = False\n",
    "            final_title.append(word.title())\n",
    "        else:\n",
    "            final_title.append(word)\n",
    "\n",
    "    \n",
    "    if len(words) >= 2:\n",
    "        if not words[-1].istitle():\n",
    "            valid = False\n",
    "        \n",
    "        final_title.append(words[-1].title())\n",
    "\n",
    "\n",
    "    return valid, \" \".join(final_title)\n",
    "\n",
    "movie_title = \"AbDc\"\n",
    "print(valid_title(movie_title))\n",
    "\n",
    "\n",
    "\n"
   ]
  },
  {
   "cell_type": "code",
   "execution_count": null,
   "metadata": {},
   "outputs": [],
   "source": [
    "movie_titles = [\n",
    "    \"The Shawshank Redemption\",\n",
    "    \"Pulp Fiction\",\n",
    "    \"The Godfather\",\n",
    "    \"Fight Club\",\n",
    "    \"Gone With the Wind\",\n",
    "    \"A Horrible Tragedy\"\n",
    "    \"Inception\",\n",
    "    \"The Dark Knight\",\n",
    "    \"Goodfellas\",\n",
    "    \"The Matrix\",\n",
    "    \"In an Open Room\",\n",
    "    \"Forrest Gump\",\n",
    "    \"Interstellar\",\n",
    "    \"The Lord of the Rings\",\n",
    "    \"The Avengers\",\n",
    "    \"Gladiator\",\n",
    "    \"Jurassic Park\",\n",
    "    \"Titanic\"\n",
    "]"
   ]
  }
 ],
 "metadata": {
  "kernelspec": {
   "display_name": "base",
   "language": "python",
   "name": "python3"
  },
  "language_info": {
   "codemirror_mode": {
    "name": "ipython",
    "version": 3
   },
   "file_extension": ".py",
   "mimetype": "text/x-python",
   "name": "python",
   "nbconvert_exporter": "python",
   "pygments_lexer": "ipython3",
   "version": "3.9.7"
  },
  "orig_nbformat": 4
 },
 "nbformat": 4,
 "nbformat_minor": 2
}
