{
 "cells": [
  {
   "attachments": {},
   "cell_type": "markdown",
   "id": "a8a6b1b6",
   "metadata": {},
   "source": [
    "## Variables\n",
    "\n",
    "Variables are used to store data values.\n",
    "\n",
    "They act as containers that hold a specific piece of information,\n",
    "such as a number, a string of text, or a more complex data structure.\n",
    "\n",
    "We'll see more types of data types moving forward"
   ]
  },
  {
   "attachments": {},
   "cell_type": "markdown",
   "id": "190f74a5",
   "metadata": {},
   "source": [
    "### Variable Declaration"
   ]
  },
  {
   "cell_type": "code",
   "execution_count": 1,
   "id": "a778e002",
   "metadata": {},
   "outputs": [],
   "source": [
    "# Here we have a variable named x and assign a value of 5\n",
    "x = 5"
   ]
  },
  {
   "attachments": {},
   "cell_type": "markdown",
   "id": "54b16406",
   "metadata": {},
   "source": [
    "### Variable Naming Rules\n",
    "\n",
    "When choosing a name for a variable, you need to follow certain naming rules:\n",
    "\n",
    "- The name must start with a letter (a-z, A-Z) or an underscore (_).\n",
    "- The name can contain letters, numbers, and underscores.\n",
    "- Python is case-sensitive, so `myVariable` and `myvariable` are considered different variables."
   ]
  },
  {
   "attachments": {},
   "cell_type": "markdown",
   "id": "7b394be1",
   "metadata": {},
   "source": [
    "#### Example:"
   ]
  },
  {
   "cell_type": "code",
   "execution_count": 2,
   "id": "b5530cff",
   "metadata": {},
   "outputs": [],
   "source": [
    "first_name = \"Jane\"\n",
    "last_name = \"Doe\"\n",
    "_age = 21\n",
    "# These are all valid python variable names"
   ]
  },
  {
   "cell_type": "code",
   "execution_count": 3,
   "id": "809b2c54",
   "metadata": {},
   "outputs": [
    {
     "ename": "SyntaxError",
     "evalue": "invalid syntax (3697777065.py, line 1)",
     "output_type": "error",
     "traceback": [
      "\u001b[1;36m  Input \u001b[1;32mIn [3]\u001b[1;36m\u001b[0m\n\u001b[1;33m    1st_rank_in_hackathon = \"Austin\"\u001b[0m\n\u001b[1;37m     ^\u001b[0m\n\u001b[1;31mSyntaxError\u001b[0m\u001b[1;31m:\u001b[0m invalid syntax\n"
     ]
    }
   ],
   "source": [
    "1st_rank_in_hackathon = \"Austin\" \n",
    "# using a number as the first letter of a variable name is invalid\n",
    "# The error shown should be a SyntaxError"
   ]
  },
  {
   "attachments": {},
   "cell_type": "markdown",
   "id": "b8c2c03d",
   "metadata": {},
   "source": [
    "The error shown is a <text style=\"color:rgb(100,150,200)\">SyntaxError</text> </p>\n",
    "Syntax refers to the rules and structure that dictate how a programming language should be written."
   ]
  },
  {
   "cell_type": "code",
   "execution_count": null,
   "id": "fae7b328",
   "metadata": {},
   "outputs": [
    {
     "ename": "SyntaxError",
     "evalue": "cannot assign to operator (3161929268.py, line 2)",
     "output_type": "error",
     "traceback": [
      "\u001b[1;36m  Input \u001b[1;32mIn [9]\u001b[1;36m\u001b[0m\n\u001b[1;33m    -x = 1\u001b[0m\n\u001b[1;37m    ^\u001b[0m\n\u001b[1;31mSyntaxError\u001b[0m\u001b[1;31m:\u001b[0m cannot assign to operator\n"
     ]
    }
   ],
   "source": [
    "# Another Invalid Example\n",
    "-x = 1"
   ]
  }
 ],
 "metadata": {
  "kernelspec": {
   "display_name": "Python 3",
   "language": "python",
   "name": "python3"
  },
  "language_info": {
   "codemirror_mode": {
    "name": "ipython",
    "version": 3
   },
   "file_extension": ".py",
   "mimetype": "text/x-python",
   "name": "python",
   "nbconvert_exporter": "python",
   "pygments_lexer": "ipython3",
   "version": "3.9.7"
  }
 },
 "nbformat": 4,
 "nbformat_minor": 5
}
