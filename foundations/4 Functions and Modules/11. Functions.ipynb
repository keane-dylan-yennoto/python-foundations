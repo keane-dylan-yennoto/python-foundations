{
 "cells": [
  {
   "cell_type": "code",
   "execution_count": 4,
   "metadata": {},
   "outputs": [
    {
     "name": "stdout",
     "output_type": "stream",
     "text": [
      "Hello! Welcome to our event.\n"
     ]
    }
   ],
   "source": [
    "def greet_user():\n",
    "    \"\"\"Greets the user.\"\"\"\n",
    "    print(\"Hello! Welcome to our event.\")\n",
    "\n",
    "# Call the function to greet the user\n",
    "greet_user()"
   ]
  },
  {
   "cell_type": "code",
   "execution_count": 5,
   "metadata": {},
   "outputs": [
    {
     "name": "stdout",
     "output_type": "stream",
     "text": [
      "Hello! Welcome to our event.\n",
      "Hello! Welcome to our event.\n",
      "Hello! Welcome to our event.\n"
     ]
    }
   ],
   "source": [
    "greet_user()\n",
    "greet_user()\n",
    "greet_user()"
   ]
  },
  {
   "cell_type": "code",
   "execution_count": 6,
   "metadata": {},
   "outputs": [
    {
     "name": "stdout",
     "output_type": "stream",
     "text": [
      "Hello! Welcome to our event.\n",
      "Hello! Welcome to our event.\n",
      "Hello! Welcome to our event.\n"
     ]
    }
   ],
   "source": [
    "print(\"Hello! Welcome to our event.\")\n",
    "print(\"Hello! Welcome to our event.\")\n",
    "print(\"Hello! Welcome to our event.\")"
   ]
  },
  {
   "cell_type": "code",
   "execution_count": 12,
   "metadata": {},
   "outputs": [],
   "source": [
    "def greet_person(name, event_name):\n",
    "    \"\"\"Greets a person with a personalized message.\"\"\"\n",
    "    print(f\"Hello, {name}! Welcome to our event {event_name}.\")"
   ]
  },
  {
   "cell_type": "code",
   "execution_count": 14,
   "metadata": {},
   "outputs": [
    {
     "name": "stdout",
     "output_type": "stream",
     "text": [
      "Hello, Jungmin! Welcome to our event 2023 Conference.\n"
     ]
    }
   ],
   "source": [
    "greet_person('Jungmin', '2023 Conference')"
   ]
  },
  {
   "cell_type": "code",
   "execution_count": 15,
   "metadata": {},
   "outputs": [
    {
     "name": "stdout",
     "output_type": "stream",
     "text": [
      "Hello, Keane! Welcome to our event Python Hackathon.\n"
     ]
    }
   ],
   "source": [
    "greet_person('Keane', 'Python Hackathon')"
   ]
  },
  {
   "cell_type": "code",
   "execution_count": 10,
   "metadata": {},
   "outputs": [],
   "source": [
    "person_name = 'John'"
   ]
  },
  {
   "cell_type": "code",
   "execution_count": 11,
   "metadata": {},
   "outputs": [
    {
     "name": "stdout",
     "output_type": "stream",
     "text": [
      "Hello, John! Welcome to our event.\n"
     ]
    }
   ],
   "source": [
    "greet_person(person_name)"
   ]
  },
  {
   "cell_type": "code",
   "execution_count": 16,
   "metadata": {},
   "outputs": [],
   "source": [
    "def add_numbers(a, b):\n",
    "    \"\"\"Adds two numbers and returns the result.\"\"\"\n",
    "    return a + b"
   ]
  },
  {
   "cell_type": "code",
   "execution_count": 17,
   "metadata": {},
   "outputs": [],
   "source": [
    "firstNum = 5\n",
    "secondNum = 6\n",
    "\n",
    "result = add_numbers(firstNum, secondNum)"
   ]
  },
  {
   "cell_type": "code",
   "execution_count": 18,
   "metadata": {},
   "outputs": [
    {
     "data": {
      "text/plain": [
       "11"
      ]
     },
     "execution_count": 18,
     "metadata": {},
     "output_type": "execute_result"
    }
   ],
   "source": [
    "result"
   ]
  },
  {
   "cell_type": "code",
   "execution_count": 23,
   "metadata": {},
   "outputs": [],
   "source": [
    "def discount_counter(finalPrice):\n",
    "    \"\"\" return the discounted price\"\"\"\n",
    "    discount = 0.3\n",
    "    return (1-discount) * finalPrice"
   ]
  },
  {
   "cell_type": "code",
   "execution_count": 24,
   "metadata": {},
   "outputs": [],
   "source": [
    "dictionary_prices = {\n",
    "    'john':156,\n",
    "    'jackson':203,\n",
    "    'mary':186\n",
    "}"
   ]
  },
  {
   "cell_type": "code",
   "execution_count": 25,
   "metadata": {},
   "outputs": [],
   "source": [
    "discounted_price = {}\n",
    "\n",
    "for name in dictionary_prices:\n",
    "    disc_price = discount_counter(dictionary_prices[name])\n",
    "    discounted_price[name] = disc_price"
   ]
  },
  {
   "cell_type": "code",
   "execution_count": 26,
   "metadata": {},
   "outputs": [
    {
     "data": {
      "text/plain": [
       "{'john': 109.19999999999999, 'jackson': 142.1, 'mary': 130.2}"
      ]
     },
     "execution_count": 26,
     "metadata": {},
     "output_type": "execute_result"
    }
   ],
   "source": [
    "discounted_price"
   ]
  },
  {
   "cell_type": "code",
   "execution_count": 36,
   "metadata": {},
   "outputs": [],
   "source": [
    "def greet_person(name, event_name):\n",
    "    \"\"\"Greets a person with a personalized message.\"\"\"\n",
    "    print(f\"Hello, {name}! Welcome to our event {event_name}.\")"
   ]
  },
  {
   "cell_type": "code",
   "execution_count": 37,
   "metadata": {},
   "outputs": [
    {
     "name": "stdout",
     "output_type": "stream",
     "text": [
      "Hello, Jane! Welcome to our event Graduation 2023.\n"
     ]
    }
   ],
   "source": [
    "message = greet_person('Jane', 'Graduation 2023')"
   ]
  },
  {
   "cell_type": "code",
   "execution_count": 38,
   "metadata": {},
   "outputs": [
    {
     "name": "stdout",
     "output_type": "stream",
     "text": [
      "None\n"
     ]
    }
   ],
   "source": [
    "print(message)"
   ]
  },
  {
   "cell_type": "code",
   "execution_count": 39,
   "metadata": {},
   "outputs": [
    {
     "data": {
      "text/plain": [
       "NoneType"
      ]
     },
     "execution_count": 39,
     "metadata": {},
     "output_type": "execute_result"
    }
   ],
   "source": [
    "type(message)"
   ]
  },
  {
   "cell_type": "code",
   "execution_count": 40,
   "metadata": {},
   "outputs": [],
   "source": [
    "def greet_person(name, event_name):\n",
    "    \"\"\"Greets a person with a personalized message.\"\"\"\n",
    "    return f\"Hello, {name}! Welcome to our event {event_name}.\""
   ]
  },
  {
   "cell_type": "code",
   "execution_count": 41,
   "metadata": {},
   "outputs": [],
   "source": [
    "message = greet_person('Jane', 'Graduation 2023')"
   ]
  },
  {
   "cell_type": "code",
   "execution_count": 42,
   "metadata": {},
   "outputs": [
    {
     "name": "stdout",
     "output_type": "stream",
     "text": [
      "Hello, Jane! Welcome to our event Graduation 2023.\n"
     ]
    }
   ],
   "source": [
    "print(message)"
   ]
  },
  {
   "cell_type": "code",
   "execution_count": null,
   "metadata": {},
   "outputs": [],
   "source": []
  }
 ],
 "metadata": {
  "kernelspec": {
   "display_name": "base",
   "language": "python",
   "name": "python3"
  },
  "language_info": {
   "codemirror_mode": {
    "name": "ipython",
    "version": 3
   },
   "file_extension": ".py",
   "mimetype": "text/x-python",
   "name": "python",
   "nbconvert_exporter": "python",
   "pygments_lexer": "ipython3",
   "version": "3.9.7"
  },
  "orig_nbformat": 4
 },
 "nbformat": 4,
 "nbformat_minor": 2
}
